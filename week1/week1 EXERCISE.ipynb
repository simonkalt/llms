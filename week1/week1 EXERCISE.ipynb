{
 "cells": [
  {
   "cell_type": "markdown",
   "id": "fe12c203-e6a6-452c-a655-afb8a03a4ff5",
   "metadata": {},
   "source": [
    "# End of week 1 exercise\n",
    "\n",
    "To demonstrate your familiarity with OpenAI API, and also Ollama, build a tool that takes a technical question,  \n",
    "and responds with an explanation. This is a tool that you will be able to use yourself during the course!"
   ]
  },
  {
   "cell_type": "code",
   "execution_count": 48,
   "id": "c1070317-3ed9-4659-abe3-828943230e03",
   "metadata": {},
   "outputs": [],
   "source": [
    "# imports\n",
    "import os\n",
    "import requests\n",
    "from dotenv import load_dotenv\n",
    "from bs4 import BeautifulSoup\n",
    "from IPython.display import Markdown, display, update_display\n",
    "from openai import OpenAI\n",
    "import json"
   ]
  },
  {
   "cell_type": "code",
   "execution_count": 16,
   "id": "4a456906-915a-4bfd-bb9d-57e505c5093f",
   "metadata": {},
   "outputs": [],
   "source": [
    "# constants\n",
    "\n",
    "MODEL_GPT = 'gpt-4o-mini'\n",
    "MODEL_LLAMA = 'llama3.2'\n",
    "OLLAMA_API = \"http://localhost:11434/api/chat\"\n",
    "HEADERS = \"\""
   ]
  },
  {
   "cell_type": "code",
   "execution_count": 3,
   "id": "a8d7923c-5f28-4c30-8556-342d7c8497c1",
   "metadata": {},
   "outputs": [
    {
     "name": "stdout",
     "output_type": "stream",
     "text": [
      "API key found and looks good so far!\n"
     ]
    }
   ],
   "source": [
    "# set up environment\n",
    "load_dotenv(override=True)\n",
    "api_key = os.getenv('OPENAI_API_KEY')\n",
    "#api_key = os.getenv('CLAUDE_API_KEY')\n",
    "\n",
    "# Check the key\n",
    "\n",
    "if not api_key:\n",
    "    print(\"No API key was found - please head over to the troubleshooting notebook in this folder to identify & fix!\")\n",
    "elif not api_key.startswith(\"sk-proj-\"):\n",
    "    if api_key.startswith(\"sk-ant-\"):\n",
    "        print(\"An API key was found!  Looks like a CLAUDE key.  Looks good so far!\")\n",
    "    else:\n",
    "        print(\"An API key was found, but it doesn't start sk-proj-; please check you're using the right key - see troubleshooting notebook\")\n",
    "elif api_key.strip() != api_key:\n",
    "    print(\"An API key was found, but it looks like it might have space or tab characters at the start or end - please remove them - see troubleshooting notebook\")\n",
    "else:\n",
    "    print(\"API key found and looks good so far!\")\n"
   ]
  },
  {
   "cell_type": "code",
   "execution_count": 4,
   "id": "f06030df-0973-467d-81f7-4d2abf5dc0a3",
   "metadata": {},
   "outputs": [],
   "source": [
    "openai = OpenAI()"
   ]
  },
  {
   "cell_type": "code",
   "execution_count": 29,
   "id": "3f0d0137-52b0-47a8-81a8-11a90a010798",
   "metadata": {},
   "outputs": [],
   "source": [
    "# here is the question; type over this to ask something new\n",
    "\n",
    "question = \"\"\"\n",
    "Where on earth can you pan for gold and get the best results?\n",
    "\"\"\"\n",
    "\n",
    "system_prompt = question\n",
    "\n",
    "user_prompt = \"Please respond with the top 10 places sorted by decending distance from Las Vegas, NV.  Respond in markdown.\"\n"
   ]
  },
  {
   "cell_type": "code",
   "execution_count": 28,
   "id": "60ce7000-a4a5-4cce-a261-e75ef45063b4",
   "metadata": {},
   "outputs": [
    {
     "data": {
      "text/markdown": [
       "Here are the top 10 places where you can pan for gold, sorted by distance from Las Vegas, NV:\n",
       "\n",
       "| Rank | Location                     | Distance from Las Vegas |\n",
       "|------|------------------------------|-------------------------|\n",
       "| 1    | Goldfield, NV                | 188 miles               |\n",
       "| 2    | Pahrump, NV                  | 66 miles                |\n",
       "| 3    | Beatty, NV                   | 113 miles               |\n",
       "| 4    | Rhyolite, NV                 | 120 miles               |\n",
       "| 5    | Death Valley National Park, CA| 130 miles               |\n",
       "| 6    | Walker Lake, NV              | 217 miles               |\n",
       "| 7    | Tonopah, NV                  | 218 miles               |\n",
       "| 8    | Ely, NV                      | 300 miles               |\n",
       "| 9    | Prescott, AZ                 | 270 miles               |\n",
       "| 10   | San Bernardino Mountains, CA  | 240 miles               |\n",
       "\n",
       "These locations offer opportunities for gold panning and might yield some interesting finds. Always check local regulations and land access conditions before heading out!"
      ],
      "text/plain": [
       "<IPython.core.display.Markdown object>"
      ]
     },
     "metadata": {},
     "output_type": "display_data"
    }
   ],
   "source": [
    "# Get gpt-4o-mini to answer, with streaming\n",
    "stream = openai.chat.completions.create(\n",
    "        model = MODEL_GPT,\n",
    "        messages = [\n",
    "        {\"role\": \"system\", \"content\": system_prompt},\n",
    "        {\"role\": \"user\", \"content\": user_prompt}\n",
    "    ],\n",
    "    stream = True\n",
    "    )\n",
    "response = \"\"\n",
    "display_handle = display(Markdown(\"\"), display_id=True)\n",
    "for chunk in stream:\n",
    "    response += chunk.choices[0].delta.content or ''\n",
    "    response = response.replace(\"```\",\"\").replace(\"markdown\", \"\")\n",
    "    update_display(Markdown(response), display_id=display_handle.display_id)"
   ]
  },
  {
   "cell_type": "code",
   "execution_count": 55,
   "id": "3dc20f9f-b26e-413f-b375-29a08e9c61be",
   "metadata": {},
   "outputs": [],
   "source": [
    "payload = {\n",
    "        \"messages\": [{\"role\": \"user\", \"content\": system_prompt + \". \" + user_prompt}],\n",
    "        \"stream\": True,\n",
    "        \"max_tokens\": 2000,\n",
    "        \"model\": MODEL_LLAMA\n",
    "    }"
   ]
  },
  {
   "cell_type": "code",
   "execution_count": 66,
   "id": "8f7c8ea8-4082-4ad0-8751-3301adcf6538",
   "metadata": {},
   "outputs": [
    {
     "name": "stdout",
     "output_type": "stream",
     "text": [
      "# Top 10 Places to Pan for Gold in the US (Sorted by Distance from Las Vegas, NV)\n",
      "\n",
      "Here are the top 10 places to pan for gold in the United States, listed in descending order by distance from Las Vegas, NV:\n",
      "\n",
      "### 1. **Carson River, California** - 160 miles (257 km) from Las Vegas\n",
      "The Carson River is a popular spot for gold panning, with many recreational gold prospectors and miners searching for nuggets.\n",
      "\n",
      "### 2. **American River, California** - 170 miles (274 km) from Las Vegas\n",
      "Located in the Sierra Nevada mountains, the American River offers plenty of opportunities to find gold using pan and sluice boxes.\n",
      "\n",
      "### 3. **Forks of the American River, California** - 175 miles (282 km) from Las Vegas\n",
      "This spot is known for its rich history of gold mining, with many famous prospectors searching for nuggets in the area.\n",
      "\n",
      "### 4. **South Platte River, Colorado** - 560 miles (901 km) from Las Vegas\n",
      "The South Platte River offers a unique opportunity to pan for gold in the heart of the Rocky Mountains.\n",
      "\n",
      "### 5. **Arkansas River, Arkansas** - 670 miles (1,079 km) from Las Vegas\n",
      "Located in the Ozark Mountains, the Arkansas River is home to numerous gold deposits and recreational prospecting areas.\n",
      "\n",
      "### 6. **Klamath River, Oregon** - 750 miles (1,207 km) from Las Vegas\n",
      "The Klamath River is a well-known spot for gold panning, with many miners searching for nuggets in its waters.\n",
      "\n",
      "### 7. **Yukon River, Alaska** - 2,150 miles (3,446 km) from Las Vegas\n",
      "For the more adventurous, the Yukon River offers an opportunity to pan for gold in one of North America's most famous mining regions.\n",
      "\n",
      "### 8. **Kenai River, Alaska** - 2,200 miles (3,541 km) from Las Vegas\n",
      "Located in south-central Alaska, the Kenai River is known for its rich gold deposits and abundant wildlife.\n",
      "\n",
      "### 9. **Snohomish River, Washington** - 2,300 miles (3,700 km) from Las Vegas\n",
      "The Snohomish River offers a scenic spot to pan for gold, with many recreational prospectors searching for nuggets in the area.\n",
      "\n",
      "### 10. **Copper Creek, Idaho** - 2,450 miles (3,945 km) from Las Vegas\n",
      "Located in central Idaho, Copper Creek is a remote but accessible spot for gold panning and prospecting.\n",
      "\n",
      "Note: Distances were calculated using Google Maps and may vary depending on the specific location within each region."
     ]
    }
   ],
   "source": [
    "# Get Llama 3.2 to answer\n",
    "# response = requests.post(OLLAMA_API, json=payload, headers=HEADERS)\n",
    "fullresponse = \"\"\n",
    "with requests.post(OLLAMA_API, json=payload, stream=True) as response:\n",
    "        for line in response.iter_lines():\n",
    "            if line:\n",
    "                # Parse the JSON from the line bytes directly\n",
    "                chunk = json.loads(line.decode('utf-8'))\n",
    "                fullresponse += chunk[\"message\"][\"content\"]\n",
    "                print(chunk[\"message\"][\"content\"], end=\"\", flush=True)\n",
    "                \n",
    "# display(Markdown(response.json()['message']['content']))\n",
    "# response = \"\"\n",
    "# display_handle = display(Markdown(\"\"), display_id=True)\n",
    "# for chunk in stream:\n",
    "#     response += chunk.choices[0].delta.content or ''\n",
    "#     response = response.replace(\"```\",\"\").replace(\"markdown\", \"\")\n",
    "#     update_display(Markdown(response), display_id=display_handle.display_id)"
   ]
  },
  {
   "cell_type": "code",
   "execution_count": null,
   "id": "9174ebef-9ccf-43c4-8d83-18e1ed648208",
   "metadata": {},
   "outputs": [],
   "source": []
  },
  {
   "cell_type": "code",
   "execution_count": null,
   "id": "a06edf7f-800d-4592-8962-2310791f007c",
   "metadata": {},
   "outputs": [],
   "source": []
  }
 ],
 "metadata": {
  "kernelspec": {
   "display_name": "Python 3 (ipykernel)",
   "language": "python",
   "name": "python3"
  },
  "language_info": {
   "codemirror_mode": {
    "name": "ipython",
    "version": 3
   },
   "file_extension": ".py",
   "mimetype": "text/x-python",
   "name": "python",
   "nbconvert_exporter": "python",
   "pygments_lexer": "ipython3",
   "version": "3.11.11"
  }
 },
 "nbformat": 4,
 "nbformat_minor": 5
}
