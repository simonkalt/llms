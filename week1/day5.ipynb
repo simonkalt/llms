{
 "cells": [
  {
   "cell_type": "markdown",
   "id": "a98030af-fcd1-4d63-a36e-38ba053498fa",
   "metadata": {},
   "source": [
    "# A full business solution\n",
    "\n",
    "## Now we will take our project from Day 1 to the next level\n",
    "\n",
    "### BUSINESS CHALLENGE:\n",
    "\n",
    "Create a product that builds a Brochure for a company to be used for prospective clients, investors and potential recruits.\n",
    "\n",
    "We will be provided a company name and their primary website.\n",
    "\n",
    "See the end of this notebook for examples of real-world business applications.\n",
    "\n",
    "And remember: I'm always available if you have problems or ideas! Please do reach out."
   ]
  },
  {
   "cell_type": "code",
   "execution_count": 1,
   "id": "d5b08506-dc8b-4443-9201-5f1848161363",
   "metadata": {},
   "outputs": [],
   "source": [
    "# imports\n",
    "# If these fail, please check you're running from an 'activated' environment with (llms) in the command prompt\n",
    "\n",
    "import os\n",
    "import requests\n",
    "import json\n",
    "from typing import List\n",
    "from dotenv import load_dotenv\n",
    "from bs4 import BeautifulSoup\n",
    "from IPython.display import Markdown, display, update_display, HTML\n",
    "from openai import OpenAI"
   ]
  },
  {
   "cell_type": "code",
   "execution_count": 2,
   "id": "fc5d8880-f2ee-4c06-af16-ecbc0262af61",
   "metadata": {},
   "outputs": [
    {
     "name": "stdout",
     "output_type": "stream",
     "text": [
      "API key looks good so far\n"
     ]
    }
   ],
   "source": [
    "# Initialize and constants\n",
    "\n",
    "load_dotenv(override=True)\n",
    "api_key = os.getenv('OPENAI_API_KEY')\n",
    "\n",
    "if api_key and api_key.startswith('sk-proj-') and len(api_key)>10:\n",
    "    print(\"API key looks good so far\")\n",
    "else:\n",
    "    print(\"There might be a problem with your API key? Please visit the troubleshooting notebook!\")\n",
    "    \n",
    "MODEL = 'gpt-4o-mini'\n",
    "openai = OpenAI()\n",
    "current_brochure = \"\""
   ]
  },
  {
   "cell_type": "code",
   "execution_count": 3,
   "id": "106dd65e-90af-4ca8-86b6-23a41840645b",
   "metadata": {},
   "outputs": [],
   "source": [
    "# A class to represent a Webpage\n",
    "\n",
    "# Some websites need you to use proper headers when fetching them:\n",
    "headers = {\n",
    " \"User-Agent\": \"Mozilla/5.0 (Windows NT 10.0; Win64; x64) AppleWebKit/537.36 (KHTML, like Gecko) Chrome/117.0.0.0 Safari/537.36\"\n",
    "}\n",
    "\n",
    "class Website:\n",
    "    \"\"\"\n",
    "    A utility class to represent a Website that we have scraped, now with links\n",
    "    \"\"\"\n",
    "\n",
    "    def __init__(self, url):\n",
    "        self.url = url\n",
    "        response = requests.get(url, headers=headers)\n",
    "        self.body = response.content\n",
    "        soup = BeautifulSoup(self.body, 'html.parser')\n",
    "        self.title = soup.title.string if soup.title else \"No title found\"\n",
    "        if soup.body:\n",
    "            for irrelevant in soup.body([\"script\", \"style\", \"img\", \"input\"]):\n",
    "                irrelevant.decompose()\n",
    "            self.text = soup.body.get_text(separator=\"\\n\", strip=True)\n",
    "        else:\n",
    "            self.text = \"\"\n",
    "        links = [link.get('href') for link in soup.find_all('a')]\n",
    "        self.links = [link for link in links if link]\n",
    "\n",
    "    def get_contents(self):\n",
    "        return f\"Webpage Title:\\n{self.title}\\nWebpage Contents:\\n{self.text}\\n\\n\""
   ]
  },
  {
   "cell_type": "code",
   "execution_count": 4,
   "id": "e30d8128-933b-44cc-81c8-ab4c9d86589a",
   "metadata": {},
   "outputs": [
    {
     "data": {
      "text/plain": [
       "['https://edwarddonner.com/',\n",
       " 'https://edwarddonner.com/outsmart/',\n",
       " 'https://edwarddonner.com/about-me-and-about-nebula/',\n",
       " 'https://edwarddonner.com/posts/',\n",
       " 'https://edwarddonner.com/',\n",
       " 'https://news.ycombinator.com',\n",
       " 'https://nebula.io/?utm_source=ed&utm_medium=referral',\n",
       " 'https://www.prnewswire.com/news-releases/wynden-stark-group-acquires-nyc-venture-backed-tech-startup-untapt-301269512.html',\n",
       " 'https://patents.google.com/patent/US20210049536A1/',\n",
       " 'https://www.linkedin.com/in/eddonner/',\n",
       " 'https://edwarddonner.com/2024/12/21/llm-resources-superdatascience/',\n",
       " 'https://edwarddonner.com/2024/12/21/llm-resources-superdatascience/',\n",
       " 'https://edwarddonner.com/2024/11/13/llm-engineering-resources/',\n",
       " 'https://edwarddonner.com/2024/11/13/llm-engineering-resources/',\n",
       " 'https://edwarddonner.com/2024/10/16/from-software-engineer-to-ai-data-scientist-resources/',\n",
       " 'https://edwarddonner.com/2024/10/16/from-software-engineer-to-ai-data-scientist-resources/',\n",
       " 'https://edwarddonner.com/2024/08/06/outsmart/',\n",
       " 'https://edwarddonner.com/2024/08/06/outsmart/',\n",
       " 'https://edwarddonner.com/',\n",
       " 'https://edwarddonner.com/outsmart/',\n",
       " 'https://edwarddonner.com/about-me-and-about-nebula/',\n",
       " 'https://edwarddonner.com/posts/',\n",
       " 'mailto:hello@mygroovydomain.com',\n",
       " 'https://www.linkedin.com/in/eddonner/',\n",
       " 'https://twitter.com/edwarddonner',\n",
       " 'https://www.facebook.com/edward.donner.52']"
      ]
     },
     "execution_count": 4,
     "metadata": {},
     "output_type": "execute_result"
    }
   ],
   "source": [
    "ed = Website(\"https://edwarddonner.com\")\n",
    "ed.links"
   ]
  },
  {
   "cell_type": "markdown",
   "id": "1771af9c-717a-4fca-bbbe-8a95893312c3",
   "metadata": {},
   "source": [
    "## First step: Have GPT-4o-mini figure out which links are relevant\n",
    "\n",
    "### Use a call to gpt-4o-mini to read the links on a webpage, and respond in structured JSON.  \n",
    "It should decide which links are relevant, and replace relative links such as \"/about\" with \"https://company.com/about\".  \n",
    "We will use \"one shot prompting\" in which we provide an example of how it should respond in the prompt.\n",
    "\n",
    "This is an excellent use case for an LLM, because it requires nuanced understanding. Imagine trying to code this without LLMs by parsing and analyzing the webpage - it would be very hard!\n",
    "\n",
    "Sidenote: there is a more advanced technique called \"Structured Outputs\" in which we require the model to respond according to a spec. We cover this technique in Week 8 during our autonomous Agentic AI project."
   ]
  },
  {
   "cell_type": "code",
   "execution_count": 4,
   "id": "6957b079-0d96-45f7-a26a-3487510e9b35",
   "metadata": {},
   "outputs": [],
   "source": [
    "link_system_prompt = \"You are provided with a list of links found on a webpage. \\\n",
    "You are able to decide which of the links would be most relevant to include in a brochure about the company, \\\n",
    "such as links to an About page, or a Company page, or Careers/Jobs pages.\\n\"\n",
    "link_system_prompt += \"You should respond in JSON as in this example:\"\n",
    "link_system_prompt += \"\"\"\n",
    "{\n",
    "    \"links\": [\n",
    "        {\"type\": \"about page\", \"url\": \"https://full.url/goes/here/about\"},\n",
    "        {\"type\": \"careers page\": \"url\": \"https://another.full.url/careers\"}\n",
    "    ]\n",
    "}\n",
    "\"\"\""
   ]
  },
  {
   "cell_type": "code",
   "execution_count": 6,
   "id": "b97e4068-97ed-4120-beae-c42105e4d59a",
   "metadata": {},
   "outputs": [
    {
     "name": "stdout",
     "output_type": "stream",
     "text": [
      "You are provided with a list of links found on a webpage. You are able to decide which of the links would be most relevant to include in a brochure about the company, such as links to an About page, or a Company page, or Careers/Jobs pages.\n",
      "You should respond in JSON as in this example:\n",
      "{\n",
      "    \"links\": [\n",
      "        {\"type\": \"about page\", \"url\": \"https://full.url/goes/here/about\"},\n",
      "        {\"type\": \"careers page\": \"url\": \"https://another.full.url/careers\"}\n",
      "    ]\n",
      "}\n",
      "\n"
     ]
    }
   ],
   "source": [
    "print(link_system_prompt)"
   ]
  },
  {
   "cell_type": "code",
   "execution_count": 5,
   "id": "8e1f601b-2eaf-499d-b6b8-c99050c9d6b3",
   "metadata": {},
   "outputs": [],
   "source": [
    "def get_links_user_prompt(website):\n",
    "    user_prompt = f\"Here is the list of links on the website of {website.url} - \"\n",
    "    user_prompt += \"please decide which of these are relevant web links for a brochure about the company, respond with the full https URL in JSON format. \\\n",
    "Do not include Terms of Service, Privacy, email links.\\n\"\n",
    "    user_prompt += \"Links (some might be relative links):\\n\"\n",
    "    user_prompt += \"\\n\".join(website.links)\n",
    "    return user_prompt"
   ]
  },
  {
   "cell_type": "code",
   "execution_count": 28,
   "id": "6bcbfa78-6395-4685-b92c-22d592050fd7",
   "metadata": {},
   "outputs": [
    {
     "name": "stdout",
     "output_type": "stream",
     "text": [
      "\n"
     ]
    }
   ],
   "source": [
    "print(get_links_user_prompt(ed))"
   ]
  },
  {
   "cell_type": "code",
   "execution_count": 6,
   "id": "a29aca19-ca13-471c-a4b4-5abbfa813f69",
   "metadata": {},
   "outputs": [],
   "source": [
    "def get_links(url):\n",
    "    website = Website(url)\n",
    "    response = openai.chat.completions.create(\n",
    "        model=MODEL,\n",
    "        messages=[\n",
    "            {\"role\": \"system\", \"content\": link_system_prompt},\n",
    "            {\"role\": \"user\", \"content\": get_links_user_prompt(website)}\n",
    "      ],\n",
    "        response_format={\"type\": \"json_object\"}\n",
    "    )\n",
    "    result = response.choices[0].message.content\n",
    "    return json.loads(result)"
   ]
  },
  {
   "cell_type": "code",
   "execution_count": 10,
   "id": "d2abbdd4-f840-4b57-921d-5504f903f39f",
   "metadata": {},
   "outputs": [
    {
     "data": {
      "text/plain": [
       "{'links': [{'type': 'about page', 'url': 'https://www.anthropic.com/company'},\n",
       "  {'type': 'careers page', 'url': 'https://www.anthropic.com/careers'},\n",
       "  {'type': 'team page', 'url': 'https://www.anthropic.com/team'},\n",
       "  {'type': 'research page', 'url': 'https://www.anthropic.com/research'},\n",
       "  {'type': 'news page', 'url': 'https://www.anthropic.com/news'}]}"
      ]
     },
     "execution_count": 10,
     "metadata": {},
     "output_type": "execute_result"
    }
   ],
   "source": [
    "get_links(\"https://anthropic.com\")"
   ]
  },
  {
   "cell_type": "code",
   "execution_count": 11,
   "id": "d3d583e2-dcc4-40cc-9b28-1e8dbf402924",
   "metadata": {},
   "outputs": [
    {
     "data": {
      "text/plain": [
       "{'links': [{'type': 'about page', 'url': 'https://huggingface.co/about'},\n",
       "  {'type': 'careers page', 'url': 'https://apply.workable.com/huggingface/'},\n",
       "  {'type': 'enterprise page', 'url': 'https://huggingface.co/enterprise'},\n",
       "  {'type': 'pricing page', 'url': 'https://huggingface.co/pricing'},\n",
       "  {'type': 'blog', 'url': 'https://huggingface.co/blog'},\n",
       "  {'type': 'company page', 'url': 'https://huggingface.co/huggingface'},\n",
       "  {'type': 'community page', 'url': 'https://discuss.huggingface.co'},\n",
       "  {'type': 'GitHub page', 'url': 'https://github.com/huggingface'},\n",
       "  {'type': 'Twitter page', 'url': 'https://twitter.com/huggingface'},\n",
       "  {'type': 'LinkedIn page',\n",
       "   'url': 'https://www.linkedin.com/company/huggingface/'}]}"
      ]
     },
     "execution_count": 11,
     "metadata": {},
     "output_type": "execute_result"
    }
   ],
   "source": [
    "get_links(\"https://huggingface.co\")"
   ]
  },
  {
   "cell_type": "markdown",
   "id": "0d74128e-dfb6-47ec-9549-288b621c838c",
   "metadata": {},
   "source": [
    "## Second step: make the brochure!\n",
    "\n",
    "Assemble all the details into another prompt to GPT4-o"
   ]
  },
  {
   "cell_type": "code",
   "execution_count": 7,
   "id": "85a5b6e2-e7ef-44a9-bc7f-59ede71037b5",
   "metadata": {},
   "outputs": [],
   "source": [
    "def get_all_details(url):\n",
    "    result = \"Landing page:\\n\"\n",
    "    result += Website(url).get_contents()\n",
    "    links = get_links(url)\n",
    "    print(\"Found links:\", links)\n",
    "    for link in links[\"links\"]:\n",
    "        result += f\"\\n\\n{link['type']}\\n\"\n",
    "        result += Website(link[\"url\"]).get_contents()\n",
    "    return result"
   ]
  },
  {
   "cell_type": "code",
   "execution_count": 29,
   "id": "a00536c6-15d8-4b98-a4f6-2a833b9ab504",
   "metadata": {},
   "outputs": [
    {
     "name": "stdout",
     "output_type": "stream",
     "text": [
      "\n"
     ]
    }
   ],
   "source": [
    "print(get_all_details(\"https://anthropic.com\"))"
   ]
  },
  {
   "cell_type": "code",
   "execution_count": 21,
   "id": "9b863a55-f86c-4e3f-8a79-94e24c1a8cf2",
   "metadata": {},
   "outputs": [],
   "source": [
    "system_prompt = \"You are an assistant that analyzes the contents of several relevant pages from a company website \\\n",
    "and creates a short brochure about the company for prospective customers, investors and recruits. Respond in html.\\\n",
    "Include details of company culture, customers and careers/jobs if you have the information.\"\n",
    "\n",
    "# Or uncomment the lines below for a more humorous brochure - this demonstrates how easy it is to incorporate 'tone':\n",
    "\n",
    "# system_prompt = \"You are an assistant that analyzes the contents of several relevant pages from a company website \\\n",
    "# and creates a short humorous, entertaining, jokey brochure about the company for prospective customers, investors and recruits. Include information and witty Respond in markdown.\\\n",
    "# Include details of company culture, customers and careers/jobs if you have the information.\"\n"
   ]
  },
  {
   "cell_type": "code",
   "execution_count": 9,
   "id": "6ab83d92-d36b-4ce0-8bcc-5bb4c2f8ff23",
   "metadata": {},
   "outputs": [],
   "source": [
    "def get_brochure_user_prompt(company_name, url):\n",
    "    user_prompt = f\"You are looking at a company called: {company_name}\\n\"\n",
    "    user_prompt += f\"Here are the contents of its landing page and other relevant pages; use this information to build a short brochure of the company in markdown.\\n\"\n",
    "    user_prompt += get_all_details(url)\n",
    "    user_prompt = user_prompt[:5_000] # Truncate if more than 5,000 characters\n",
    "    return user_prompt"
   ]
  },
  {
   "cell_type": "code",
   "execution_count": 38,
   "id": "e44de579-4a1a-4e6a-a510-20ea3e4b8d46",
   "metadata": {},
   "outputs": [],
   "source": [
    "def create_brochure(company_name, url):\n",
    "    global current_brochure\n",
    "    response = openai.chat.completions.create(\n",
    "        model=MODEL,\n",
    "        messages=[\n",
    "            {\"role\": \"system\", \"content\": system_prompt},\n",
    "            {\"role\": \"user\", \"content\": get_brochure_user_prompt(company_name, url)}\n",
    "          ],\n",
    "    )\n",
    "    result = response.choices[0].message.content\n",
    "    current_brochure = result\n",
    "    display(HTML(current_brochure))"
   ]
  },
  {
   "cell_type": "code",
   "execution_count": 25,
   "id": "9881299b-2092-4d48-8008-a816749adfb0",
   "metadata": {},
   "outputs": [
    {
     "name": "stdout",
     "output_type": "stream",
     "text": [
      "```html\n",
      "<!DOCTYPE html>\n",
      "<html lang=\"en\">\n",
      "<head>\n",
      "    <meta charset=\"UTF-8\">\n",
      "    <meta name=\"viewport\" content=\"width=device-width, initial-scale=1.0\">\n",
      "    <title>UrVenue Company Brochure</title>\n",
      "    <style>\n",
      "        body {\n",
      "            font-family: Arial, sans-serif;\n",
      "            line-height: 1.6;\n",
      "            margin: 20px;\n",
      "            padding: 20px;\n",
      "            background-color: #f2f2f2;\n",
      "        }\n",
      "        h1 {\n",
      "            color: #333;\n",
      "        }\n",
      "        h2 {\n",
      "            color: #555;\n",
      "        }\n",
      "        .section {\n",
      "            margin-top: 20px;\n",
      "            padding: 15px;\n",
      "            background: white;\n",
      "            border-radius: 8px;\n",
      "            box-shadow: 0 2px 5px rgba(0, 0, 0, 0.1);\n",
      "        }\n",
      "    </style>\n",
      "</head>\n",
      "<body>\n",
      "    <div class=\"section\">\n",
      "        <h1>Welcome to UrVenue</h1>\n",
      "        <p>UrVenue is an innovative hospitality booking platform and venue management software designed to simplify operations and elevate guest experiences across various hospitality sectors.</p>\n",
      "    </div>\n",
      "\n",
      "    <div class=\"section\">\n",
      "        <h2>Who We Serve</h2>\n",
      "        <p>Our platform caters to the following industries:</p>\n",
      "        <ul>\n",
      "            <li><strong>Nightlife & Daylife:</strong> Leading full-stack platform for nightclubs and dayclubs.</li>\n",
      "            <li><strong>Pools & Beaches:</strong> Technology for managing non-room inventory at hotels and resorts.</li>\n",
      "            <li><strong>Mixed-Use Entertainment:</strong> Optimizing the sale and distribution of experience-based inventory.</li>\n",
      "            <li><strong>Sportsbooks & Sports Bars:</strong> Modern software for enhancing operations and guest satisfaction.</li>\n",
      "            <li><strong>Bars & Lounges:</strong> Next-gen software for managing events, ticket sales, and guest lists.</li>\n",
      "        </ul>\n",
      "    </div>\n",
      "\n",
      "    <div class=\"section\">\n",
      "        <h2>Our Platform</h2>\n",
      "        <p>UrVenue provides an all-in-one solution that unifies booking, operations management, commerce, and distribution:</p>\n",
      "        <ul>\n",
      "            <li>Real-time inventory management</li>\n",
      "            <li>A unified booking cart</li>\n",
      "            <li>3D interactive maps</li>\n",
      "            <li>Seamless booking process from inquiry to confirmation</li>\n",
      "            <li>Strategies to increase revenue per customer</li>\n",
      "        </ul>\n",
      "    </div>\n",
      "\n",
      "    <div class=\"section\">\n",
      "        <h2>Company Culture</h2>\n",
      "        <p>At UrVenue, we foster a culture of innovation and collaboration. Our team is dedicated to creating outstanding solutions that not only meet customer needs but also enhance the overall guest experience in the hospitality industry. We value creativity, integrity, and a passion for technology.</p>\n",
      "    </div>\n",
      "\n",
      "    <div class=\"section\">\n",
      "        <h2>Careers at UrVenue</h2>\n",
      "        <p>We're on the lookout for driven individuals who are enthusiastic about the hospitality and technology sectors. If you're seeking a dynamic and supportive environment where you can grow and make an impact, consider joining us. Check our careers page for open positions!</p>\n",
      "    </div>\n",
      "\n",
      "    <div class=\"section\">\n",
      "        <h2>Get in Touch</h2>\n",
      "        <p>If you're interested in learning more about our services or booking a demo, visit our <a href=\"#\">website</a> for more information.</p>\n",
      "    </div>\n",
      "</body>\n",
      "</html>\n",
      "```\n"
     ]
    }
   ],
   "source": [
    "print(current_brochure)"
   ]
  },
  {
   "cell_type": "code",
   "execution_count": 49,
   "id": "8e80334e-febc-4749-9e8d-212479e3f9c5",
   "metadata": {},
   "outputs": [],
   "source": [
    "def translate_brochure(language):\n",
    "    translate_system_prompt = \"Translate the website into \" + language\n",
    "    response = openai.chat.completions.create(\n",
    "        model=MODEL,\n",
    "        messages=[\n",
    "            {\"role\": \"system\", \"content\": translate_system_prompt},\n",
    "            {\"role\": \"user\", \"content\":  current_brochure}\n",
    "          ],\n",
    "    )\n",
    "    result = response.choices[0].message.content.replace(\"```html\",\"\").replace(\"```\",\"\")\n",
    "    display(HTML(result))"
   ]
  },
  {
   "cell_type": "code",
   "execution_count": 50,
   "id": "3f030051-bdee-4975-bae0-2ce2100714a4",
   "metadata": {},
   "outputs": [
    {
     "data": {
      "text/html": [
       "\n",
       "<!DOCTYPE html>\n",
       "<html lang=\"es\">\n",
       "<head>\n",
       "    <meta charset=\"UTF-8\">\n",
       "    <meta name=\"viewport\" content=\"width=device-width, initial-scale=1.0\">\n",
       "    <title>Brochure de la Empresa UrVenue</title>\n",
       "    <style>\n",
       "        body {\n",
       "            font-family: Arial, sans-serif;\n",
       "            line-height: 1.6;\n",
       "            margin: 20px;\n",
       "            padding: 20px;\n",
       "            background-color: #f2f2f2;\n",
       "        }\n",
       "        h1 {\n",
       "            color: #333;\n",
       "        }\n",
       "        h2 {\n",
       "            color: #555;\n",
       "        }\n",
       "        .section {\n",
       "            margin-top: 20px;\n",
       "            padding: 15px;\n",
       "            background: white;\n",
       "            border-radius: 8px;\n",
       "            box-shadow: 0 2px 5px rgba(0, 0, 0, 0.1);\n",
       "        }\n",
       "    </style>\n",
       "</head>\n",
       "<body>\n",
       "    <div class=\"section\">\n",
       "        <h1>Bienvenido a UrVenue</h1>\n",
       "        <p>UrVenue es una plataforma innovadora de reservas de hospitalidad y software de gestión de lugares diseñado para simplificar operaciones y elevar las experiencias de los huéspedes en varios sectores de hospitalidad.</p>\n",
       "    </div>\n",
       "\n",
       "    <div class=\"section\">\n",
       "        <h2>A Quién Servimos</h2>\n",
       "        <p>Nuestra plataforma atiende a las siguientes industrias:</p>\n",
       "        <ul>\n",
       "            <li><strong>Vida Nocturna y Diurna:</strong> Plataforma integral líder para discotecas y clubes diurnos.</li>\n",
       "            <li><strong>Piscinas y Playas:</strong> Tecnología para gestionar inventario no relacionado con habitaciones en hoteles y complejos turísticos.</li>\n",
       "            <li><strong>Entretenimiento de Uso Mixto:</strong> Optimización de la venta y distribución de inventario basado en experiencias.</li>\n",
       "            <li><strong>Apuestas Deportivas y Bares Deportivos:</strong> Software moderno para mejorar operaciones y la satisfacción del huésped.</li>\n",
       "            <li><strong>Bares y Salones:</strong> Software de próxima generación para gestionar eventos, ventas de entradas y listas de invitados.</li>\n",
       "        </ul>\n",
       "    </div>\n",
       "\n",
       "    <div class=\"section\">\n",
       "        <h2>Nuestra Plataforma</h2>\n",
       "        <p>UrVenue proporciona una solución todo en uno que unifica reservas, gestión de operaciones, comercio y distribución:</p>\n",
       "        <ul>\n",
       "            <li>Gestión de inventario en tiempo real</li>\n",
       "            <li>Un carrito de reservas unificado</li>\n",
       "            <li>Mapas interactivos en 3D</li>\n",
       "            <li>Proceso de reserva sin problemas desde la consulta hasta la confirmación</li>\n",
       "            <li>Estrategias para aumentar los ingresos por cliente</li>\n",
       "        </ul>\n",
       "    </div>\n",
       "\n",
       "    <div class=\"section\">\n",
       "        <h2>Cultura de la Empresa</h2>\n",
       "        <p>En UrVenue, fomentamos una cultura de innovación y colaboración. Nuestro equipo está dedicado a crear soluciones sobresalientes que no solo satisfacen las necesidades del cliente, sino que también mejoran la experiencia general del huésped en la industria de la hospitalidad. Valoramos la creatividad, la integridad y una pasión por la tecnología.</p>\n",
       "    </div>\n",
       "\n",
       "    <div class=\"section\">\n",
       "        <h2>Oportunidades Laborales en UrVenue</h2>\n",
       "        <p>Estamos en busca de personas motivadas que estén entusiasmadas por los sectores de hospitalidad y tecnología. Si estás buscando un entorno dinámico y de apoyo donde puedas crecer y hacer un impacto, considera unirte a nosotros. ¡Visita nuestra página de carreras para conocer las posiciones abiertas!</p>\n",
       "    </div>\n",
       "\n",
       "    <div class=\"section\">\n",
       "        <h2>Contacto</h2>\n",
       "        <p>Si estás interesado en saber más sobre nuestros servicios o reservar una demostración, visita nuestro <a href=\"#\">sitio web</a> para más información.</p>\n",
       "    </div>\n",
       "</body>\n",
       "</html>\n"
      ],
      "text/plain": [
       "<IPython.core.display.HTML object>"
      ]
     },
     "metadata": {},
     "output_type": "display_data"
    }
   ],
   "source": [
    "translate_brochure(\"spanish\")"
   ]
  },
  {
   "cell_type": "code",
   "execution_count": 24,
   "id": "58dec241-24c1-4a55-bf19-72cbac730214",
   "metadata": {},
   "outputs": [
    {
     "name": "stdout",
     "output_type": "stream",
     "text": [
      "Found links: {'links': [{'type': 'company page', 'url': 'https://www.urvenue.com'}, {'type': 'about page', 'url': 'https://www.urvenue.com/who-we-serve/nightlife-daylife/'}, {'type': 'about page', 'url': 'https://www.urvenue.com/who-we-serve/pools-and-beaches/'}, {'type': 'about page', 'url': 'https://www.urvenue.com/who-we-serve/bars-and-lounges/'}, {'type': 'about page', 'url': 'https://www.urvenue.com/who-we-serve/mixed-use-entertainment-venues/'}, {'type': 'about page', 'url': 'https://www.urvenue.com/who-we-serve/sportsbooks-sports-bars/'}, {'type': 'careers page', 'url': 'https://www.urvenue.com/request-demo/'}, {'type': 'products page', 'url': 'https://www.urvenue.com/products/venue-management-software/'}, {'type': 'products page', 'url': 'https://www.urvenue.com/products/creative-services/'}, {'type': 'products page', 'url': 'https://www.urvenue.com/products/marketplace/'}, {'type': 'news page', 'url': 'https://www.urvenue.com/news/'}, {'type': 'contact page', 'url': 'https://www.urvenue.com/support/'}]}\n"
     ]
    },
    {
     "data": {
      "text/html": [
       "```html\n",
       "<!DOCTYPE html>\n",
       "<html lang=\"en\">\n",
       "<head>\n",
       "    <meta charset=\"UTF-8\">\n",
       "    <meta name=\"viewport\" content=\"width=device-width, initial-scale=1.0\">\n",
       "    <title>UrVenue Company Brochure</title>\n",
       "    <style>\n",
       "        body {\n",
       "            font-family: Arial, sans-serif;\n",
       "            line-height: 1.6;\n",
       "            margin: 20px;\n",
       "            padding: 20px;\n",
       "            background-color: #f2f2f2;\n",
       "        }\n",
       "        h1 {\n",
       "            color: #333;\n",
       "        }\n",
       "        h2 {\n",
       "            color: #555;\n",
       "        }\n",
       "        .section {\n",
       "            margin-top: 20px;\n",
       "            padding: 15px;\n",
       "            background: white;\n",
       "            border-radius: 8px;\n",
       "            box-shadow: 0 2px 5px rgba(0, 0, 0, 0.1);\n",
       "        }\n",
       "    </style>\n",
       "</head>\n",
       "<body>\n",
       "    <div class=\"section\">\n",
       "        <h1>Welcome to UrVenue</h1>\n",
       "        <p>UrVenue is an innovative hospitality booking platform and venue management software designed to simplify operations and elevate guest experiences across various hospitality sectors.</p>\n",
       "    </div>\n",
       "\n",
       "    <div class=\"section\">\n",
       "        <h2>Who We Serve</h2>\n",
       "        <p>Our platform caters to the following industries:</p>\n",
       "        <ul>\n",
       "            <li><strong>Nightlife & Daylife:</strong> Leading full-stack platform for nightclubs and dayclubs.</li>\n",
       "            <li><strong>Pools & Beaches:</strong> Technology for managing non-room inventory at hotels and resorts.</li>\n",
       "            <li><strong>Mixed-Use Entertainment:</strong> Optimizing the sale and distribution of experience-based inventory.</li>\n",
       "            <li><strong>Sportsbooks & Sports Bars:</strong> Modern software for enhancing operations and guest satisfaction.</li>\n",
       "            <li><strong>Bars & Lounges:</strong> Next-gen software for managing events, ticket sales, and guest lists.</li>\n",
       "        </ul>\n",
       "    </div>\n",
       "\n",
       "    <div class=\"section\">\n",
       "        <h2>Our Platform</h2>\n",
       "        <p>UrVenue provides an all-in-one solution that unifies booking, operations management, commerce, and distribution:</p>\n",
       "        <ul>\n",
       "            <li>Real-time inventory management</li>\n",
       "            <li>A unified booking cart</li>\n",
       "            <li>3D interactive maps</li>\n",
       "            <li>Seamless booking process from inquiry to confirmation</li>\n",
       "            <li>Strategies to increase revenue per customer</li>\n",
       "        </ul>\n",
       "    </div>\n",
       "\n",
       "    <div class=\"section\">\n",
       "        <h2>Company Culture</h2>\n",
       "        <p>At UrVenue, we foster a culture of innovation and collaboration. Our team is dedicated to creating outstanding solutions that not only meet customer needs but also enhance the overall guest experience in the hospitality industry. We value creativity, integrity, and a passion for technology.</p>\n",
       "    </div>\n",
       "\n",
       "    <div class=\"section\">\n",
       "        <h2>Careers at UrVenue</h2>\n",
       "        <p>We're on the lookout for driven individuals who are enthusiastic about the hospitality and technology sectors. If you're seeking a dynamic and supportive environment where you can grow and make an impact, consider joining us. Check our careers page for open positions!</p>\n",
       "    </div>\n",
       "\n",
       "    <div class=\"section\">\n",
       "        <h2>Get in Touch</h2>\n",
       "        <p>If you're interested in learning more about our services or booking a demo, visit our <a href=\"#\">website</a> for more information.</p>\n",
       "    </div>\n",
       "</body>\n",
       "</html>\n",
       "```"
      ],
      "text/plain": [
       "<IPython.core.display.HTML object>"
      ]
     },
     "metadata": {},
     "output_type": "display_data"
    }
   ],
   "source": [
    "create_brochure(\"UrVenue\", \"https://urvenue.com\")"
   ]
  },
  {
   "cell_type": "markdown",
   "id": "61eaaab7-0b47-4b29-82d4-75d474ad8d18",
   "metadata": {},
   "source": [
    "## Finally - a minor improvement\n",
    "\n",
    "With a small adjustment, we can change this so that the results stream back from OpenAI,\n",
    "with the familiar typewriter animation"
   ]
  },
  {
   "cell_type": "code",
   "execution_count": 26,
   "id": "51db0e49-f261-4137-aabe-92dd601f7725",
   "metadata": {},
   "outputs": [],
   "source": [
    "def stream_brochure(company_name, url):\n",
    "    stream = openai.chat.completions.create(\n",
    "        model=MODEL,\n",
    "        messages=[\n",
    "            {\"role\": \"system\", \"content\": system_prompt},\n",
    "            {\"role\": \"user\", \"content\": get_brochure_user_prompt(company_name, url)}\n",
    "          ],\n",
    "        stream=True\n",
    "    )\n",
    "    \n",
    "    response = \"\"\n",
    "    display_handle = display(Markdown(\"\"), display_id=True)\n",
    "    for chunk in stream:\n",
    "        response += chunk.choices[0].delta.content or ''\n",
    "        response = response.replace(\"```\",\"\").replace(\"markdown\", \"\")\n",
    "        update_display(Markdown(response), display_id=display_handle.display_id)"
   ]
  },
  {
   "cell_type": "code",
   "execution_count": 35,
   "id": "bb39aa18-4049-437b-84d0-54f169f8a540",
   "metadata": {},
   "outputs": [
    {
     "name": "stdout",
     "output_type": "stream",
     "text": [
      "Found links: {'links': [{'type': 'homepage', 'url': 'https://www.urvenue.com'}, {'type': 'products page', 'url': 'https://www.urvenue.com/products/venue-management-software/'}, {'type': 'products page', 'url': 'https://www.urvenue.com/products/creative-services/'}, {'type': 'products page', 'url': 'https://www.urvenue.com/products/marketplace/'}, {'type': 'who we serve page', 'url': 'https://www.urvenue.com/who-we-serve/nightlife-daylife/'}, {'type': 'who we serve page', 'url': 'https://www.urvenue.com/who-we-serve/pools-and-beaches/'}, {'type': 'who we serve page', 'url': 'https://www.urvenue.com/who-we-serve/bars-and-lounges/'}, {'type': 'who we serve page', 'url': 'https://www.urvenue.com/who-we-serve/mixed-use-entertainment-venues/'}, {'type': 'who we serve page', 'url': 'https://www.urvenue.com/who-we-serve/sportsbooks-sports-bars/'}, {'type': 'news page', 'url': 'https://www.urvenue.com/news/'}, {'type': 'faq page', 'url': 'https://www.urvenue.com/faqs/'}, {'type': 'support page', 'url': 'https://www.urvenue.com/support/'}, {'type': 'request demo page', 'url': 'https://www.urvenue.com/request-demo/'}]}\n"
     ]
    },
    {
     "data": {
      "text/markdown": [
       "\n",
       "# 🌟 Welcome to UrVenue: Where Every Event is a Grand Adventure! 🎉\n",
       "\n",
       "## The Best Hospitality Booking Platform & Venue Management Software!\n",
       "\n",
       "### Who is UrVenue?\n",
       "Strap on your party shoes because UrVenue is your ultimate sidekick in the wild world of nightlife and entertainment! Whether you manage a nightclub, beach resort, or a cozy bar in the heart of Las Vegas (yes, that's right - the city that never sleeps), our all-in-one platform is here to unleash the full potential of your venue. \n",
       "\n",
       "### Services We Offer (Because Who Doesn't Like Choices?)\n",
       "- **Venue Management Software**: Unify booking, management, and guest services. Say goodbye to cluttered spreadsheets! \n",
       "- **Creative Services**: Want to look good? We’ll create seamless, branded websites giving every venue its well-deserved makeover! \n",
       "- **UV Marketplace**: Explore our curated network of third-party partners and sprinkle a little extra magic on your venue’s offerings.\n",
       "\n",
       "### Who's Loving Us?\n",
       "Our clients range from:\n",
       "- **Partying Nightclubs & Lush Daylife Venues**: Let’s help you sparkle like that disco ball!\n",
       "- **Sunny Pools & Beaches**: Because nothing says relaxation like sipping cocktails with your toes in the sand.\n",
       "- **Mixed-Use Entertainment**: Variety is the spice of life, and we bring the whole spice rack!\n",
       "- **Sportsbooks & Bars**: Not just for cheering fans – we optimize operations to generate superfan-level sales!\n",
       "\n",
       "### 🏙️ Hello, Las Vegas! 🎲\n",
       "Where the lights are brighter and the drinks are never watered down! UrVenue calls this city home, and we embrace its vibrant, spirited culture. We perfectly blend technology with the unique hospitality Las Vegas is famous for. Plus, our central location on the Strip means we’re always close to the action! \n",
       "\n",
       "### Why Choose UrVenue?\n",
       "- **Efficiency Meets Innovation**: Manage everything from bookings to guest interactions in one centralized tool – it's like having a Swiss Army knife, but, you know, for venues.\n",
       "- **Unified Booking Journey**: Our booking system is smoother than your uncle's moves at the family wedding.\n",
       "- **Revenue Boosting Strategies**: We’ve got upselling strategies that’ll make your cash register sing (or maybe just jingle) with that sweet cha-ching sound!\n",
       "\n",
       "### Join Our Fun-Tastic Team! 🎉\n",
       "Do you love hospitality as much as we do? \n",
       "- We're on the lookout for innovative thinkers, party starters, and technology wizards to join our UrVenue family! \n",
       "- Flexible working conditions, an open culture, and the chance to be part of something great (with occasional office parties). \n",
       "\n",
       "### Ready to Join the Party?\n",
       "Book a Demo, and let's transform your venue into the hottest spot in town! Because at UrVenue, we’re all about elevating experiences while keeping it fun and fabulous.\n",
       "\n",
       "---\n",
       "\n",
       "**UrVenue**  \n",
       "Your all-in-one hospitality partner  \n",
       "Las Vegas, NV  \n",
       "Join the fun: [Book a Demo Today](#)\n",
       "\n"
      ],
      "text/plain": [
       "<IPython.core.display.Markdown object>"
      ]
     },
     "metadata": {},
     "output_type": "display_data"
    }
   ],
   "source": [
    "stream_brochure(\"UrVenue\", \"https://urvenue.com\")"
   ]
  },
  {
   "cell_type": "code",
   "execution_count": 27,
   "id": "56bf0ae3-ee9d-4a72-9cd6-edcac67ceb6d",
   "metadata": {},
   "outputs": [
    {
     "name": "stdout",
     "output_type": "stream",
     "text": [
      "Found links: {'links': [{'type': 'home page', 'url': 'https://huggingface.co/'}, {'type': 'models page', 'url': 'https://huggingface.co/models'}, {'type': 'datasets page', 'url': 'https://huggingface.co/datasets'}, {'type': 'spaces page', 'url': 'https://huggingface.co/spaces'}, {'type': 'enterprise page', 'url': 'https://huggingface.co/enterprise'}, {'type': 'pricing page', 'url': 'https://huggingface.co/pricing'}, {'type': 'careers page', 'url': 'https://apply.workable.com/huggingface/'}, {'type': 'blog page', 'url': 'https://huggingface.co/blog'}, {'type': 'community page', 'url': 'https://discuss.huggingface.co'}, {'type': 'GitHub page', 'url': 'https://github.com/huggingface'}, {'type': 'Twitter page', 'url': 'https://twitter.com/huggingface'}, {'type': 'LinkedIn page', 'url': 'https://www.linkedin.com/company/huggingface/'}]}\n"
     ]
    },
    {
     "data": {
      "text/markdown": [
       "# Hugging Face Company Brochure\n",
       "\n",
       "---\n",
       "\n",
       "## 📢 Welcome to Hugging Face\n",
       "\n",
       "### **The AI Community Building the Future**\n",
       "\n",
       "Hugging Face is a vibrant platform at the forefront of artificial intelligence and machine learning, providing a collaborative environment for developers, researchers, and organizations to create, discover, and collaborate on machine learning models, datasets, and applications.\n",
       "\n",
       "---\n",
       "\n",
       "## 🚀 What We Offer\n",
       "\n",
       "### **Models, Datasets, and Spaces:**\n",
       "- **400k+ Models** – Browse and utilize a vast collection of state-of-the-art machine learning models across varying functionalities.\n",
       "- **100k+ Datasets** – Access and contribute to a rich library of datasets tailored for different domains including NLP, computer vision, and audio processing.\n",
       "- **150k+ Applications** – Explore an extensive array of applications and experiments driven by the community.\n",
       "\n",
       "### **Innovative Tools:**\n",
       "- **Open Source Library** – Our Transformers library supports state-of-the-art ML for both PyTorch and TensorFlow.\n",
       "- **Compute Solutions** – Fast, reliable deployment options with pricing starting at $0.60/hour for GPU services.\n",
       "- **Enterprise Solutions** – Comprehensive support and security for businesses wanting to leverage AI technologies.\n",
       "\n",
       "---\n",
       "\n",
       "## 🏗️ Company Culture\n",
       "\n",
       "At Hugging Face, we believe in building open-source technology with the community. Our culture fosters collaboration, innovation, and inclusivity, where everyone has the opportunity to contribute and shape the future of machine learning. We encourage all team members to share their work and build their portfolio while being part of a supportive community.\n",
       "\n",
       "- **Team Collaboration** – Work together remotely and across disciplines to push the boundaries of technology.\n",
       "- **Diversity and Inclusion** – An open environment that values different perspectives, backgrounds, and experiences.\n",
       "\n",
       "---\n",
       "\n",
       "## 🌐 Our Customers\n",
       "\n",
       "More than **50,000 organizations** are using Hugging Face, including prominent names such as:\n",
       "\n",
       "- **Amazon Web Services**\n",
       "- **Google**\n",
       "- **Microsoft**\n",
       "- **Intel**\n",
       "\n",
       "Our platform supports various enterprises, nonprofits, and individuals who are leveraging AI technologies in diverse applications.\n",
       "\n",
       "---\n",
       "\n",
       "## 🙋‍♀️ Careers at Hugging Face\n",
       "\n",
       "Join us in our mission to democratize AI! We are always looking for passionate, talented individuals eager to make an impact in the AI community. Our careers section highlights various roles in engineering, research, product management, and more.\n",
       "\n",
       "### **Why Work With Us?**\n",
       "- Impactful work in a growing technology sector.\n",
       "- Opportunities for career growth and professional development.\n",
       "- Flexible working conditions and a focus on work-life balance.\n",
       "\n",
       "---\n",
       "\n",
       "## 🌍 Join the Hugging Face Revolution!\n",
       "\n",
       "Whether you’re a developer, an organization looking for cutting-edge machine learning solutions, or an individual wanting to be part of an AI-driven community, Hugging Face welcomes you. \n",
       "\n",
       "**Sign up today** and start your journey with us at [Hugging Face](https://huggingface.co). \n",
       "\n",
       "--- \n",
       "\n",
       "*For more information, follow us on our social media platforms: [GitHub](http://github.com/huggingface), [Twitter](http://twitter.com/huggingface), [LinkedIn](http://linkedin.com/company/hugging-face) and join our communities!*"
      ],
      "text/plain": [
       "<IPython.core.display.Markdown object>"
      ]
     },
     "metadata": {},
     "output_type": "display_data"
    }
   ],
   "source": [
    "stream_brochure(\"HuggingFace\", \"https://huggingface.co\")"
   ]
  },
  {
   "cell_type": "code",
   "execution_count": 29,
   "id": "fdb3f8d8-a3eb-41c8-b1aa-9f60686a653b",
   "metadata": {},
   "outputs": [
    {
     "name": "stdout",
     "output_type": "stream",
     "text": [
      "Found links: {'links': [{'type': 'about page', 'url': 'https://huggingface.co'}, {'type': 'enterprise page', 'url': 'https://huggingface.co/enterprise'}, {'type': 'pricing page', 'url': 'https://huggingface.co/pricing'}, {'type': 'careers page', 'url': 'https://apply.workable.com/huggingface/'}, {'type': 'blog page', 'url': 'https://huggingface.co/blog'}, {'type': 'company page', 'url': 'https://www.linkedin.com/company/huggingface/'}, {'type': 'community page', 'url': 'https://discuss.huggingface.co'}]}\n"
     ]
    },
    {
     "data": {
      "text/markdown": [
       "\n",
       "# Hugging Face: The AI Community Building the Future\n",
       "\n",
       "## About Us\n",
       "Hugging Face is a premier platform where the machine learning community collaborates on models, datasets, and applications. Dedicated to fostering an open-source environment, we empower over 50,000 organizations worldwide, including tech giants like Amazon, Google, and Microsoft, to innovate and advance their AI capabilities.\n",
       "\n",
       "## Our Offerings\n",
       "- **Models**: Access an extensive repository of over 400,000 machine learning models, including state-of-the-art options for text, image, and audio processing.\n",
       "- **Datasets**: Explore more than 100,000 datasets tailored for various machine learning tasks, facilitating research and application building.\n",
       "- **Spaces**: Showcase applications built using our technology, providing a platform for collaborative innovation.\n",
       "- **Enterprise Solutions**: Our enterprise-grade offerings come with advanced security, dedicated support, and tailored resources to help businesses thrive in the AI landscape.\n",
       "\n",
       "### Key Features\n",
       "- **Open Source**: At the heart of our success lies a commitment to open-source collaboration. Our libraries, like Transformers, provide industry-leading machine learning tools across multiple frameworks. \n",
       "- **Compute Solutions**: Optimize and scale your AI workloads with our GPU-accelerated services starting from $0.60/hour.\n",
       "- **Community Engagement**: Join a vibrant community of developers and researchers, contribute to our platforms, and be part of the future of AI.\n",
       "\n",
       "## Company Culture\n",
       "At Hugging Face, we believe in building a diverse and inclusive environment where creativity and collaboration thrive. Our culture centers around empowering individuals to take initiative and inspire innovation. We foster an atmosphere of curiosity and continuous learning, ideal for those passionate about technology and artificial intelligence.\n",
       "\n",
       "## Careers\n",
       "We're always on the lookout for talent! Explore opportunities to join our team in various roles across engineering, product management, and community engagement. If you're eager to push the boundaries of AI technology and collaborate with experts in the field, Hugging Face is the place for you.\n",
       "\n",
       "### Join Us!\n",
       "- [Explore Job Openings](https://huggingface.co/jobs)\n",
       "- [Learn About Our Work Culture](https://huggingface.co/about)\n",
       "\n",
       "## Our Customers\n",
       "Hugging Face supports a broad customer base spanning both startups and established enterprises. Notable users include:\n",
       "- **AI at Meta**: Engaging with cutting-edge research and application development.\n",
       "- **Amazon Web Services**: Leveraging our models for scalable AI solutions.\n",
       "- **Google**: Collaborating in advancing machine learning research.\n",
       "\n",
       "---\n",
       "\n",
       "**Connect with Us:**\n",
       "- [GitHub](https://github.com/huggingface)\n",
       "- [Twitter](https://twitter.com/huggingface)\n",
       "- [LinkedIn](https://www.linkedin.com/company/huggingface)\n",
       "- [Discord](https://discord.gg/huggingface)\n",
       "\n",
       "### Join the AI Revolution!\n",
       "Explore our platform and be part of the movement shaping the future of artificial intelligence.\n",
       "\n"
      ],
      "text/plain": [
       "<IPython.core.display.Markdown object>"
      ]
     },
     "metadata": {},
     "output_type": "display_data"
    }
   ],
   "source": [
    "# Try changing the system prompt to the humorous version when you make the Brochure for Hugging Face:\n",
    "\n",
    "stream_brochure(\"HuggingFace\", \"https://huggingface.co\")"
   ]
  },
  {
   "cell_type": "markdown",
   "id": "a27bf9e0-665f-4645-b66b-9725e2a959b5",
   "metadata": {},
   "source": [
    "<table style=\"margin: 0; text-align: left;\">\n",
    "    <tr>\n",
    "        <td style=\"width: 150px; height: 150px; vertical-align: middle;\">\n",
    "            <img src=\"../business.jpg\" width=\"150\" height=\"150\" style=\"display: block;\" />\n",
    "        </td>\n",
    "        <td>\n",
    "            <h2 style=\"color:#181;\">Business applications</h2>\n",
    "            <span style=\"color:#181;\">In this exercise we extended the Day 1 code to make multiple LLM calls, and generate a document.\n",
    "\n",
    "This is perhaps the first example of Agentic AI design patterns, as we combined multiple calls to LLMs. This will feature more in Week 2, and then we will return to Agentic AI in a big way in Week 8 when we build a fully autonomous Agent solution.\n",
    "\n",
    "Generating content in this way is one of the very most common Use Cases. As with summarization, this can be applied to any business vertical. Write marketing content, generate a product tutorial from a spec, create personalized email content, and so much more. Explore how you can apply content generation to your business, and try making yourself a proof-of-concept prototype.</span>\n",
    "        </td>\n",
    "    </tr>\n",
    "</table>"
   ]
  },
  {
   "cell_type": "markdown",
   "id": "14b2454b-8ef8-4b5c-b928-053a15e0d553",
   "metadata": {},
   "source": [
    "<table style=\"margin: 0; text-align: left;\">\n",
    "    <tr>\n",
    "        <td style=\"width: 150px; height: 150px; vertical-align: middle;\">\n",
    "            <img src=\"../important.jpg\" width=\"150\" height=\"150\" style=\"display: block;\" />\n",
    "        </td>\n",
    "        <td>\n",
    "            <h2 style=\"color:#900;\">Before you move to Week 2 (which is tons of fun)</h2>\n",
    "            <span style=\"color:#900;\">Please see the week1 EXERCISE notebook for your challenge for the end of week 1. This will give you some essential practice working with Frontier APIs, and prepare you well for Week 2.</span>\n",
    "        </td>\n",
    "    </tr>\n",
    "</table>"
   ]
  },
  {
   "cell_type": "markdown",
   "id": "17b64f0f-7d33-4493-985a-033d06e8db08",
   "metadata": {},
   "source": [
    "<table style=\"margin: 0; text-align: left;\">\n",
    "    <tr>\n",
    "        <td style=\"width: 150px; height: 150px; vertical-align: middle;\">\n",
    "            <img src=\"../resources.jpg\" width=\"150\" height=\"150\" style=\"display: block;\" />\n",
    "        </td>\n",
    "        <td>\n",
    "            <h2 style=\"color:#f71;\">A reminder on 2 useful resources</h2>\n",
    "            <span style=\"color:#f71;\">1. The resources for the course are available <a href=\"https://edwarddonner.com/2024/11/13/llm-engineering-resources/\">here.</a><br/>\n",
    "            2. I'm on LinkedIn <a href=\"https://www.linkedin.com/in/eddonner/\">here</a> and I love connecting with people taking the course!\n",
    "            </span>\n",
    "        </td>\n",
    "    </tr>\n",
    "</table>"
   ]
  },
  {
   "cell_type": "markdown",
   "id": "6f48e42e-fa7a-495f-a5d4-26bfc24d60b6",
   "metadata": {},
   "source": [
    "<table style=\"margin: 0; text-align: left;\">\n",
    "    <tr>\n",
    "        <td style=\"width: 150px; height: 150px; vertical-align: middle;\">\n",
    "            <img src=\"../thankyou.jpg\" width=\"150\" height=\"150\" style=\"display: block;\" />\n",
    "        </td>\n",
    "        <td>\n",
    "            <h2 style=\"color:#090;\">Finally! I have a special request for you</h2>\n",
    "            <span style=\"color:#090;\">\n",
    "                My editor tells me that it makes a MASSIVE difference when students rate this course on Udemy - it's one of the main ways that Udemy decides whether to show it to others. If you're able to take a minute to rate this, I'd be so very grateful! And regardless - always please reach out to me at ed@edwarddonner.com if I can help at any point.\n",
    "            </span>\n",
    "        </td>\n",
    "    </tr>\n",
    "</table>"
   ]
  },
  {
   "cell_type": "code",
   "execution_count": null,
   "id": "b8d3e1a1-ba54-4907-97c5-30f89a24775b",
   "metadata": {},
   "outputs": [],
   "source": []
  }
 ],
 "metadata": {
  "kernelspec": {
   "display_name": "Python 3 (ipykernel)",
   "language": "python",
   "name": "python3"
  },
  "language_info": {
   "codemirror_mode": {
    "name": "ipython",
    "version": 3
   },
   "file_extension": ".py",
   "mimetype": "text/x-python",
   "name": "python",
   "nbconvert_exporter": "python",
   "pygments_lexer": "ipython3",
   "version": "3.11.11"
  }
 },
 "nbformat": 4,
 "nbformat_minor": 5
}
